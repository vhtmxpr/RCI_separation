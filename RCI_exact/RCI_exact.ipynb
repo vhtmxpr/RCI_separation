{
 "cells": [
  {
   "cell_type": "code",
   "execution_count": 1,
   "id": "275debff-87e5-4e1f-b287-441629e72453",
   "metadata": {},
   "outputs": [
    {
     "data": {
      "text/html": [
       "<div><div style = \"float: left;\"><span>1×6 DataFrame</span></div><div style = \"clear: both;\"></div></div><div class = \"data-frame\" style = \"overflow-x: scroll;\"><table class = \"data-frame\" style = \"margin-bottom: 6px;\"><thead><tr class = \"header\"><th class = \"rowNumber\" style = \"font-weight: bold; text-align: right;\">Row</th><th style = \"text-align: left;\">customers</th><th style = \"text-align: left;\">vehicles</th><th style = \"text-align: left;\">capacity</th><th style = \"text-align: left;\">demand</th><th style = \"text-align: left;\">edges</th><th style = \"text-align: left;\">x_bar</th></tr><tr class = \"subheader headerLastRow\"><th class = \"rowNumber\" style = \"font-weight: bold; text-align: right;\"></th><th title = \"Int64\" style = \"text-align: left;\">Int64</th><th title = \"Int64\" style = \"text-align: left;\">Int64</th><th title = \"Int64\" style = \"text-align: left;\">Int64</th><th title = \"String\" style = \"text-align: left;\">String</th><th title = \"String\" style = \"text-align: left;\">String</th><th title = \"String\" style = \"text-align: left;\">String</th></tr></thead><tbody><tr><td class = \"rowNumber\" style = \"font-weight: bold; text-align: right;\">1</td><td style = \"text-align: right;\">10</td><td style = \"text-align: right;\">2</td><td style = \"text-align: right;\">10</td><td style = \"text-align: left;\">[0, 1, 3, 2, 4, 1, 4, 2, 3, 2, 3]</td><td style = \"text-align: left;\">[[1, 2], [2, 1], [1, 9], [9, 1], [1, 10], [10, 1], [1, 11], [11, 1], [2, 3], [3, 2], [3, 4], [4, 3], [4, 5], [5, 4], [5, 6], [6, 5], [6, 7], [7, 6], [6, 10], [10, 6], [7, 11], [11, 7], [10, 11], [11, 10], [7, 8], [8, 7],  [8, 9], [9, 8], [1, 3], [3, 1], [4, 10], [10, 4], [1, 8], [8, 1], [7, 9], [9, 7]]</td><td style = \"text-align: left;\">[1.0, 1.0, 0.5, 0.5, 0.5, 0.5, 1.0, 1.0, 1.0, 1.0, 0.5, 0.5, 1.0, 1.0, 1.0, 1.0, 0.5, 0.5, 0.5, 0.5, 0.5, 0.5, 0.5, 0.5, 0.5, 0.5, 1.0, 1.0, 0.5, 0.5, 0.5, 0.5, 0.5, 0.5, 0.5, 0.5] </td></tr></tbody></table></div>"
      ],
      "text/latex": [
       "\\begin{tabular}{r|cccccc}\n",
       "\t& customers & vehicles & capacity & demand & edges & \\\\\n",
       "\t\\hline\n",
       "\t& Int64 & Int64 & Int64 & String & String & \\\\\n",
       "\t\\hline\n",
       "\t1 & 10 & 2 & 10 & [0, 1, 3, 2, 4, 1, 4, 2, 3, 2, 3] & [[1, 2], [2, 1], [1, 9], [9, 1], [1, 10], [10, 1], [1, 11], [11, 1], [2, 3], [3, 2], [3, 4], [4, 3], [4, 5], [5, 4], [5, 6], [6, 5], [6, 7], [7, 6], [6, 10], [10, 6], [7, 11], [11, 7], [10, 11], [11, 10], [7, 8], [8, 7],  [8, 9], [9, 8], [1, 3], [3, 1], [4, 10], [10, 4], [1, 8], [8, 1], [7, 9], [9, 7]] & $\\dots$ \\\\\n",
       "\\end{tabular}\n"
      ],
      "text/plain": [
       "\u001b[1m1×6 DataFrame\u001b[0m\n",
       "\u001b[1m Row \u001b[0m│\u001b[1m customers \u001b[0m\u001b[1m vehicles \u001b[0m\u001b[1m capacity \u001b[0m\u001b[1m demand                            \u001b[0m\u001b[1m edges\u001b[0m ⋯\n",
       "     │\u001b[90m Int64     \u001b[0m\u001b[90m Int64    \u001b[0m\u001b[90m Int64    \u001b[0m\u001b[90m String                            \u001b[0m\u001b[90m Strin\u001b[0m ⋯\n",
       "─────┼──────────────────────────────────────────────────────────────────────────\n",
       "   1 │        10         2        10  [0, 1, 3, 2, 4, 1, 4, 2, 3, 2, 3]  [[1,  ⋯\n",
       "\u001b[36m                                                               2 columns omitted\u001b[0m"
      ]
     },
     "metadata": {},
     "output_type": "display_data"
    }
   ],
   "source": [
    "using JuMP, Gurobi, CSV, DataFrames, JSON\n",
    "\n",
    "data = CSV.read(\"test.csv\",DataFrame)"
   ]
  },
  {
   "cell_type": "code",
   "execution_count": 2,
   "id": "e221a6af",
   "metadata": {},
   "outputs": [
    {
     "data": {
      "text/plain": [
       "exact_RCI_separation (generic function with 1 method)"
      ]
     },
     "metadata": {},
     "output_type": "display_data"
    }
   ],
   "source": [
    "function exact_RCI_separation(k)\n",
    "    \n",
    "    edges = JSON.parse(data[k,\"edges\"])\n",
    "    edges  = Vector{Vector{Int64}}(edges)\n",
    "\n",
    "    sol_fraction = JSON.parse(data[k,\"x_bar\"])\n",
    "    sol_fraction = Vector{Float64}(sol_fraction)\n",
    "\n",
    "    demands = JSON.parse(data[k,\"demand\"])\n",
    "    demands = Vector{Int64}(demands)\n",
    "\n",
    "    s_hat = Vector{Vector{Int64}}()\n",
    "    z = Vector{Float64}()\n",
    "    rhs = Vector{Int64}()\n",
    "    violation = Vector{Float64}()\n",
    "\n",
    "    for M in 0:ceil(sum(demands[i] for i in 2:size(demands)[1])/data[k,\"capacity\"])-1\n",
    "\n",
    "        model = Model(Gurobi.Optimizer)\n",
    "\n",
    "        @variable(model,y[1:data[k,\"customers\"]+1],Bin)\n",
    "        @variable(model,w[1:size(edges)[1]] >=0)\n",
    "\n",
    "        @objective(model, Min, sum(sol_fraction[i]*w[i] for i in 1:size(edges)[1]))\n",
    "\n",
    "        @constraint(model,constraint_4, y[1] == 0)\n",
    "        @constraint(model, constraint3, sum(demands[i]*y[i] for i in 2:size(demands)[1]) >= M*data[k,\"capacity\"] + 1 )\n",
    "        @constraint(model, constraint1[i in 1:size(edges)[1]], w[i]>=y[edges[i][1]] - y[edges[i][2]])\n",
    "\n",
    "        JuMP.optimize!(model)\n",
    "\n",
    "        \n",
    "        s_hat_part = Vector{Int}()\n",
    "        d = 0\n",
    "        value_edge = Vector{Float64}()\n",
    "\n",
    "        for i in 1:size(y)[1]\n",
    "            if JuMP.value(y[i]) == 1.0\n",
    "                push!(s_hat_part,i)\n",
    "                d = d+ demands[i]\n",
    "            end\n",
    "        end\n",
    "\n",
    "        push!(s_hat,s_hat_part)\n",
    "        push!(z,JuMP.objective_value(model))\n",
    "        push!(rhs, 2*ceil(d/data[k,\"capacity\"]) )\n",
    "        push!(violation, 2*ceil(d/data[k,\"capacity\"]) - JuMP.objective_value(model))\n",
    "    end\n",
    "\n",
    "    output = [string(s_hat), string(z), string(rhs), string(violation)]\n",
    "\n",
    "    return output\n",
    "  \n",
    "end"
   ]
  },
  {
   "cell_type": "code",
   "execution_count": 3,
   "id": "bf415c3e",
   "metadata": {},
   "outputs": [
    {
     "name": "stdout",
     "output_type": "stream",
     "text": [
      "Set parameter Username\n",
      "Academic license - for non-commercial use only - expires 2024-12-26\n",
      "Gurobi Optimizer version 10.0.3 build v10.0.3rc0 (linux64)\n",
      "\n",
      "CPU model: AMD Ryzen 9 5900X 12-Core Processor, instruction set [SSE2|AVX|AVX2]\n",
      "Thread count: 12 physical cores, 24 logical processors, using up to 24 threads\n",
      "\n",
      "Optimize a model with 38 rows, 47 columns and 119 nonzeros\n",
      "Model fingerprint: 0x05cf4004\n",
      "Variable types: 36 continuous, 11 integer (11 binary)\n",
      "Coefficient statistics:\n",
      "  Matrix range     [1e+00, 4e+00]\n",
      "  Objective range  [5e-01, 1e+00]\n",
      "  Bounds range     [0e+00, 0e+00]\n",
      "  RHS range        [1e+00, 1e+00]\n",
      "Found heuristic solution: objective 2.0000000\n",
      "Presolve removed 25 rows and 13 columns\n",
      "Presolve time: 0.00s\n",
      "Presolved: 13 rows, 34 columns, 58 nonzeros\n",
      "Variable types: 24 continuous, 10 integer (10 binary)\n",
      "\n",
      "Root relaxation: objective 3.750000e-01, 12 iterations, 0.00 seconds (0.00 work units)\n",
      "\n",
      "    Nodes    |    Current Node    |     Objective Bounds      |     Work\n",
      " Expl Unexpl |  Obj  Depth IntInf | Incumbent    BestBd   Gap | It/Node Time\n",
      "\n",
      "     0     0    0.37500    0    8    2.00000    0.37500  81.2%     -    0s\n",
      "\n",
      "Cutting planes:\n",
      "  Gomory: 3\n",
      "  RLT: 1\n",
      "\n",
      "Explored 1 nodes (12 simplex iterations) in 0.01 seconds (0.00 work units)\n",
      "Thread count was 24 (of 24 available processors)\n",
      "\n",
      "Solution count 1: 2 \n",
      "\n",
      "Optimal solution found (tolerance 1.00e-04)\n",
      "Best objective 2.000000000000e+00, best bound 2.000000000000e+00, gap 0.0000%\n",
      "\n",
      "User-callback calls 258, time in user-callback 0.00 sec\n",
      "Set parameter Username\n",
      "Academic license - for non-commercial use only - expires 2024-12-26\n",
      "Gurobi Optimizer version 10.0.3 build v10.0.3rc0 (linux64)\n",
      "\n",
      "CPU model: AMD Ryzen 9 5900X 12-Core Processor, instruction set [SSE2|AVX|AVX2]\n",
      "Thread count: 12 physical cores, 24 logical processors, using up to 24 threads\n",
      "\n",
      "Optimize a model with 38 rows, 47 columns and 119 nonzeros\n",
      "Model fingerprint: 0x1c123092\n",
      "Variable types: 36 continuous, 11 integer (11 binary)\n",
      "Coefficient statistics:\n",
      "  Matrix range     [1e+00, 4e+00]\n",
      "  Objective range  [5e-01, 1e+00]\n",
      "  Bounds range     [0e+00, 0e+00]\n",
      "  RHS range        [1e+01, 1e+01]\n",
      "Found heuristic solution: objective 4.0000000\n",
      "Presolve removed 25 rows and 13 columns\n",
      "Presolve time: 0.00s\n",
      "Presolved: 13 rows, 34 columns, 58 nonzeros\n",
      "Variable types: 24 continuous, 10 integer (10 binary)\n",
      "Found heuristic solution: objective 3.0000000\n",
      "\n",
      "Root relaxation: objective 1.571429e+00, 12 iterations, 0.00 seconds (0.00 work units)\n",
      "\n",
      "    Nodes    |    Current Node    |     Objective Bounds      |     Work\n",
      " Expl Unexpl |  Obj  Depth IntInf | Incumbent    BestBd   Gap | It/Node Time\n",
      "\n",
      "     0     0    1.57143    0    8    3.00000    1.57143  47.6%     -    0s\n",
      "     0     0    2.16667    0    4    3.00000    2.16667  27.8%     -    0s\n",
      "\n",
      "Explored 1 nodes (16 simplex iterations) in 0.00 seconds (0.00 work units)\n",
      "Thread count was 24 (of 24 available processors)\n",
      "\n",
      "Solution count 2: 3 4 \n",
      "\n",
      "Optimal solution found (tolerance 1.00e-04)\n",
      "Best objective 3.000000000000e+00, best bound 3.000000000000e+00, gap 0.0000%\n",
      "\n",
      "User-callback calls 256, time in user-callback 0.00 sec\n",
      "Set parameter Username\n",
      "Academic license - for non-commercial use only - expires 2024-12-26\n",
      "Gurobi Optimizer version 10.0.3 build v10.0.3rc0 (linux64)\n",
      "\n",
      "CPU model: AMD Ryzen 9 5900X 12-Core Processor, instruction set [SSE2|AVX|AVX2]\n",
      "Thread count: 12 physical cores, 24 logical processors, using up to 24 threads\n",
      "\n",
      "Optimize a model with 38 rows, 47 columns and 119 nonzeros\n",
      "Model fingerprint: 0x8e77d48c\n",
      "Variable types: 36 continuous, 11 integer (11 binary)\n",
      "Coefficient statistics:\n",
      "  Matrix range     [1e+00, 4e+00]\n",
      "  Objective range  [5e-01, 1e+00]\n",
      "  Bounds range     [0e+00, 0e+00]\n",
      "  RHS range        [2e+01, 2e+01]\n",
      "Found heuristic solution: objective 5.0000000\n",
      "Presolve removed 31 rows and 27 columns\n",
      "Presolve time: 0.00s\n",
      "Presolved: 7 rows, 20 columns, 32 nonzeros\n",
      "Variable types: 12 continuous, 8 integer (8 binary)\n",
      "\n",
      "Root relaxation: objective 3.000000e+00, 4 iterations, 0.00 seconds (0.00 work units)\n",
      "\n",
      "    Nodes    |    Current Node    |     Objective Bounds      |     Work\n",
      " Expl Unexpl |  Obj  Depth IntInf | Incumbent    BestBd   Gap | It/Node Time\n",
      "\n",
      "*    0     0               0       3.0000000    3.00000  0.00%     -    0s\n",
      "\n",
      "Explored 1 nodes (4 simplex iterations) in 0.00 seconds (0.00 work units)\n",
      "Thread count was 24 (of 24 available processors)\n",
      "\n",
      "Solution count 2: 3 5 \n",
      "\n",
      "Optimal solution found (tolerance 1.00e-04)\n",
      "Best objective 3.000000000000e+00, best bound 3.000000000000e+00, gap 0.0000%\n",
      "\n",
      "User-callback calls 419, time in user-callback 0.00 sec\n"
     ]
    }
   ],
   "source": [
    "output_matrix = Vector{Vector{String}}()\n",
    "\n",
    "for i in 1:size(data)[1]\n",
    "    push!(output_matrix,exact_RCI_separation(i))\n",
    "end"
   ]
  },
  {
   "cell_type": "code",
   "execution_count": 4,
   "id": "28dab1ca",
   "metadata": {},
   "outputs": [
    {
     "data": {
      "text/plain": [
       "\"output_test.csv\""
      ]
     },
     "metadata": {},
     "output_type": "display_data"
    }
   ],
   "source": [
    "df = DataFrame(\n",
    "    s_hat = getindex.(output_matrix, 1),\n",
    "    z = getindex.(output_matrix, 2),\n",
    "    rhs = getindex.(output_matrix, 3),\n",
    "    violation = getindex.(output_matrix, 4)\n",
    ")\n",
    "CSV.write(\"output_test.csv\", df)"
   ]
  }
 ],
 "metadata": {
  "kernelspec": {
   "display_name": "Julia 1.9.4",
   "language": "julia",
   "name": "julia-1.9"
  },
  "language_info": {
   "file_extension": ".jl",
   "mimetype": "application/julia",
   "name": "julia",
   "version": "1.9.4"
  }
 },
 "nbformat": 4,
 "nbformat_minor": 5
}
