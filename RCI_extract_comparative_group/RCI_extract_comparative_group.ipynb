{
 "cells": [
  {
   "cell_type": "code",
   "execution_count": 13,
   "metadata": {},
   "outputs": [
    {
     "name": "stdout",
     "output_type": "stream",
     "text": [
      "100\n"
     ]
    }
   ],
   "source": [
    "using CSV, DataFrames, JSON\n",
    "\n",
    "data = CSV.read(\"output_rci_separation_200.csv\",DataFrame)\n",
    "println(size(data)[1])"
   ]
  },
  {
   "cell_type": "code",
   "execution_count": 14,
   "metadata": {},
   "outputs": [
    {
     "data": {
      "text/plain": [
       "\"[0.03803662749212933, 0.1078371949175505, 0.45940273785882013, 0.0005342344087324591, 0.3422466955397674, 0.09018324374141429, 0.42031867020440217, 12.628935847785826, 8.906952841596159, 0.8851481244260526, 0.11898012388688528, 0.20007061952513538, 2.7684519928231026, 0\" ⋯ 1490 bytes ⋯ \" 0.7965555959443442, 0.24514796939828543, 0.17515359413177123, 15.615288220551378, 0.8410583187049419, 3.036694764554202, 0.03472644495953148, 0.043255837682877996, 0.008240621606798726, 0.005729126933811557, 10.652782701169798, 0.012813308377829458, 0.4972787581575062]\""
      ]
     },
     "metadata": {},
     "output_type": "display_data"
    }
   ],
   "source": [
    "violation_opt::Vector{Float64} = Vector{Float64}(undef,size(data)[1])\n",
    "for k in 1:size(data)[1]\n",
    "    violation::Vector{Float64} = Vector{Float64}(JSON.parse(data[k,\"violation\"]))\n",
    "    violation_opt[k] = maximum(violation)\n",
    "    if violation_opt[k] < 0.00000000001\n",
    "        violation_opt[k] = 0\n",
    "    end\n",
    "end\n",
    "string(violation_opt)\n"
   ]
  },
  {
   "cell_type": "code",
   "execution_count": 15,
   "metadata": {},
   "outputs": [
    {
     "data": {
      "text/plain": [
       "\"rci_exact_violation_max_200.csv\""
      ]
     },
     "metadata": {},
     "output_type": "display_data"
    }
   ],
   "source": [
    "df = DataFrame(\n",
    "    violation_optimal = getindex.(violation_opt, 1)\n",
    ")\n",
    "CSV.write(\"rci_exact_violation_max_200.csv\", df)"
   ]
  },
  {
   "cell_type": "code",
   "execution_count": 16,
   "metadata": {},
   "outputs": [],
   "source": []
  }
 ],
 "metadata": {
  "kernelspec": {
   "display_name": "Julia 1.9.4",
   "language": "julia",
   "name": "julia-1.9"
  },
  "language_info": {
   "file_extension": ".jl",
   "mimetype": "application/julia",
   "name": "julia",
   "version": "1.9.4"
  }
 },
 "nbformat": 4,
 "nbformat_minor": 2
}
